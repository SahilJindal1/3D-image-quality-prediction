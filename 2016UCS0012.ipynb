{
 "cells": [
  {
   "cell_type": "code",
   "execution_count": 1,
   "metadata": {},
   "outputs": [],
   "source": [
    "import cv2\n",
    "import numpy as np\n",
    "import xlrd\n",
    "import scipy\n",
    "from scipy.stats.stats import pearsonr\n",
    "from scipy.optimize import curve_fit"
   ]
  },
  {
   "cell_type": "code",
   "execution_count": 2,
   "metadata": {},
   "outputs": [],
   "source": [
    "ObjectiveScore = []\n",
    "SubjectiveScore=[]"
   ]
  },
  {
   "cell_type": "code",
   "execution_count": 3,
   "metadata": {},
   "outputs": [],
   "source": [
    "for z in range (0,84):\n",
    "\timg = cv2.imread(f\"Assignment2/DIBR_Data/{z+1}.png\",0);\n",
    "\tlength = img.shape[0]\n",
    "\twidth = img.shape[1]\n",
    "\tcount = 0;\n",
    "\tfor i in range(0,length):\n",
    "\t\tfor j in range(0,width):\n",
    "\t\t\tif img[i][j] < 16:\n",
    "\t\t\t\tcount = count + 1\n",
    "\tObjectiveScore.append(count)"
   ]
  },
  {
   "cell_type": "code",
   "execution_count": 4,
   "metadata": {},
   "outputs": [],
   "source": [
    "loc = (\"Assignment2/DIBR_Data/DMOS_DIBR.xlsx\")\n",
    "wb = xlrd.open_workbook(loc)\n",
    "sheet = wb.sheet_by_index(0)\n",
    "\n",
    "for i in range(sheet.nrows):\n",
    "\tSubjectiveScore.append(sheet.cell_value(i, 0))"
   ]
  },
  {
   "cell_type": "code",
   "execution_count": 5,
   "metadata": {},
   "outputs": [
    {
     "name": "stdout",
     "output_type": "stream",
     "text": [
      "(-0.6355511439245668, 8.328372635432614e-11)\n"
     ]
    }
   ],
   "source": [
    "PLCC = pearsonr(SubjectiveScore,ObjectiveScore)\n",
    "print(PLCC)"
   ]
  },
  {
   "cell_type": "code",
   "execution_count": 6,
   "metadata": {},
   "outputs": [],
   "source": [
    "def GaussianFilter(size):\n",
    "    output = np.zeros([512 - size + 1, 512 - size + 1])\n",
    "    \n",
    "    for i in range(0,512-size+1):\n",
    "        for j in range(0,512-size+1):\n",
    "            sum=0\n",
    "            for k in range(i,i+size):\n",
    "                for l in range(j,j+size):\n",
    "                    output[i][j]=output[i][j] + img[k][l]*math.exp(-1*((k-i-(size//2))*(k-i-(size//2)) + (l-j-(size//2))*(l-j-(size//2))))\n",
    "                    sum+=math.exp(-1*((k-i-(size//2))*(k-i-(size//2)) + (l-j-(size//2))*(l-j-(size//2))))\n",
    "            output[i][j]=output[i][j]/sum\n",
    "    \n",
    "    return output"
   ]
  },
  {
   "cell_type": "code",
   "execution_count": 7,
   "metadata": {},
   "outputs": [],
   "source": [
    "def BilateralFilter(size):\n",
    "    output = np.zeros([512 - size + 1, 512 - size + 1])\n",
    "    for i in range(0,512-size+1):\n",
    "        for j in range(0,512-size+1):\n",
    "            sum=0\n",
    "            for k in range(i,i+size):\n",
    "                for l in range(j,j+size):\n",
    "                    output[i][j]=output[i][j] + img[k][l]*math.exp(-1*((k-i-(size//2))*(k-i-(size//2)) + (l-j-(size//2))*(l-j-(size//2))))*math.exp(-1*(img[k][l] - img[i + size//2][j + size//2])*(img[k][l] - img[i + size//2][j + size//2]))\n",
    "                    sum+=math.exp(-1*((k-i-(size//2))*(k-i-(size//2)) + (l-j-(size//2))*(l-j-(size//2))))*math.exp(-1*(img[k][l] - img[i + size//2][j + size//2])*(img[k][l] - img[i + size//2][j + size//2]))\n",
    "            output[i][j]=output[i][j]/sum\n",
    "    \n",
    "    return output"
   ]
  },
  {
   "cell_type": "code",
   "execution_count": 8,
   "metadata": {},
   "outputs": [],
   "source": [
    "def func(x, a, b, c):\n",
    "    return a * np.exp(-b * x) + c"
   ]
  },
  {
   "cell_type": "code",
   "execution_count": null,
   "metadata": {},
   "outputs": [],
   "source": []
  },
  {
   "cell_type": "code",
   "execution_count": 9,
   "metadata": {},
   "outputs": [],
   "source": [
    "for i in range(0,84):\n",
    "    ObjectiveScore[i]= ObjectiveScore[i]/5000"
   ]
  },
  {
   "cell_type": "code",
   "execution_count": 10,
   "metadata": {},
   "outputs": [],
   "source": [
    "popt, pcov = curve_fit(func, ObjectiveScore, SubjectiveScore)"
   ]
  },
  {
   "cell_type": "code",
   "execution_count": 11,
   "metadata": {},
   "outputs": [
    {
     "data": {
      "text/plain": [
       "array([2.23916942, 0.09116123, 1.29475961])"
      ]
     },
     "execution_count": 11,
     "metadata": {},
     "output_type": "execute_result"
    }
   ],
   "source": [
    "popt"
   ]
  },
  {
   "cell_type": "code",
   "execution_count": 12,
   "metadata": {},
   "outputs": [
    {
     "data": {
      "text/plain": [
       "array([[ 0.90966384, -0.05361686, -0.91930023],\n",
       "       [-0.05361686,  0.00347424,  0.05499509],\n",
       "       [-0.91930023,  0.05499509,  0.93425164]])"
      ]
     },
     "execution_count": 12,
     "metadata": {},
     "output_type": "execute_result"
    }
   ],
   "source": [
    "pcov"
   ]
  },
  {
   "cell_type": "code",
   "execution_count": 34,
   "metadata": {},
   "outputs": [],
   "source": [
    "NewObjectiveScore = []\n",
    "for i in range (0,84):\n",
    "    NewObjectiveScore.append(func(ObjectiveScore[i],*popt))"
   ]
  },
  {
   "cell_type": "code",
   "execution_count": 41,
   "metadata": {},
   "outputs": [],
   "source": [
    "# for i in range (0,84):\n",
    "#     NewObjectiveScore[i] = NewObjectiveScore[i] + 0.4"
   ]
  },
  {
   "cell_type": "code",
   "execution_count": 42,
   "metadata": {},
   "outputs": [
    {
     "name": "stdout",
     "output_type": "stream",
     "text": [
      "(0.737560418368689, 1.2286194889387519e-15)\n"
     ]
    }
   ],
   "source": [
    "PLCC = pearsonr(SubjectiveScore,NewObjectiveScore)\n",
    "print(PLCC)"
   ]
  },
  {
   "cell_type": "code",
   "execution_count": null,
   "metadata": {},
   "outputs": [],
   "source": []
  },
  {
   "cell_type": "code",
   "execution_count": null,
   "metadata": {},
   "outputs": [],
   "source": []
  },
  {
   "cell_type": "code",
   "execution_count": null,
   "metadata": {},
   "outputs": [],
   "source": []
  },
  {
   "cell_type": "code",
   "execution_count": null,
   "metadata": {},
   "outputs": [],
   "source": []
  },
  {
   "cell_type": "code",
   "execution_count": null,
   "metadata": {},
   "outputs": [],
   "source": []
  },
  {
   "cell_type": "code",
   "execution_count": null,
   "metadata": {},
   "outputs": [],
   "source": []
  },
  {
   "cell_type": "code",
   "execution_count": null,
   "metadata": {},
   "outputs": [],
   "source": []
  }
 ],
 "metadata": {
  "kernelspec": {
   "display_name": "Python 3",
   "language": "python",
   "name": "python3"
  },
  "language_info": {
   "codemirror_mode": {
    "name": "ipython",
    "version": 3
   },
   "file_extension": ".py",
   "mimetype": "text/x-python",
   "name": "python",
   "nbconvert_exporter": "python",
   "pygments_lexer": "ipython3",
   "version": "3.6.7"
  }
 },
 "nbformat": 4,
 "nbformat_minor": 2
}
